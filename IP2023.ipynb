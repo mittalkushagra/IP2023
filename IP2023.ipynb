{
 "cells": [
  {
   "cell_type": "code",
   "execution_count": 1,
   "metadata": {},
   "outputs": [
    {
     "name": "stdout",
     "output_type": "stream",
     "text": [
      "Note: you may need to restart the kernel to use updated packages.\n"
     ]
    },
    {
     "name": "stderr",
     "output_type": "stream",
     "text": [
      "ERROR: Could not find a version that satisfies the requirement cv2 (from versions: none)\n",
      "ERROR: No matching distribution found for cv2\n"
     ]
    }
   ],
   "source": [
    "pip install cv2"
   ]
  },
  {
   "cell_type": "code",
   "execution_count": 2,
   "metadata": {},
   "outputs": [
    {
     "name": "stdout",
     "output_type": "stream",
     "text": [
      "Requirement already satisfied: qrcode in f:\\anaconda3\\lib\\site-packages (7.3.1)\n",
      "Requirement already satisfied: colorama; platform_system == \"Windows\" in f:\\anaconda3\\lib\\site-packages (from qrcode) (0.4.3)\n",
      "Note: you may need to restart the kernel to use updated packages.\n"
     ]
    }
   ],
   "source": [
    "pip install qrcode\n"
   ]
  },
  {
   "cell_type": "code",
   "execution_count": 3,
   "metadata": {},
   "outputs": [
    {
     "name": "stdout",
     "output_type": "stream",
     "text": [
      "Requirement already satisfied: pandas in f:\\anaconda3\\lib\\site-packages (1.3.5)\n",
      "Requirement already satisfied: pytz>=2017.3 in f:\\anaconda3\\lib\\site-packages (from pandas) (2019.3)\n",
      "Requirement already satisfied: numpy>=1.17.3; platform_machine != \"aarch64\" and platform_machine != \"arm64\" and python_version < \"3.10\" in f:\\anaconda3\\lib\\site-packages (from pandas) (1.18.1)\n",
      "Requirement already satisfied: python-dateutil>=2.7.3 in f:\\anaconda3\\lib\\site-packages (from pandas) (2.8.1)\n",
      "Requirement already satisfied: six>=1.5 in f:\\anaconda3\\lib\\site-packages (from python-dateutil>=2.7.3->pandas) (1.14.0)\n",
      "Note: you may need to restart the kernel to use updated packages.\n"
     ]
    }
   ],
   "source": [
    "pip install pandas"
   ]
  },
  {
   "cell_type": "code",
   "execution_count": 4,
   "metadata": {},
   "outputs": [
    {
     "name": "stdout",
     "output_type": "stream",
     "text": [
      "Note: you may need to restart the kernel to use updated packages.\n"
     ]
    },
    {
     "name": "stderr",
     "output_type": "stream",
     "text": [
      "ERROR: Could not find a version that satisfies the requirement urllib (from versions: none)\n",
      "ERROR: No matching distribution found for urllib\n"
     ]
    }
   ],
   "source": [
    "pip install urllib\n"
   ]
  },
  {
   "cell_type": "code",
   "execution_count": 5,
   "metadata": {},
   "outputs": [
    {
     "name": "stdout",
     "output_type": "stream",
     "text": [
      "\n",
      "\n",
      "\n",
      "||Serial_Number=1.0||PRODUCT_NAME=Haldiram_Chips_Pudina_treat||ENERGY=558.0kcal||PROTEIN=6.5g||CARBS=52.0g||TOTAL_FAT=36.0g||SUGARS=0.5g||ADDED_SUGAR=Null||SATURATED_FAT=17.0g||TRANSFAT=0.1g||POLYUNSATURATED=Null||MONOUNSATURATED=Null||SODIUM=Null||CHOLESTROL=Null||DIETARY_FIBER=Null \n",
      "\n",
      "\n",
      "\n",
      "||Serial_Number=2.0||PRODUCT_NAME=Cup_Noodles_veggi_Manchow||ENERGY=468.0kcal||PROTEIN=8.50g||CARBS=64.90g||TOTAL_FAT=18.0g||SUGARS=3.0g||ADDED_SUGAR=1.26g||SATURATED_FAT=9.23g||TRANSFAT=0.099g||POLYUNSATURATED=Null||MONOUNSATURATED=Null||SODIUM=Null||CHOLESTROL=Null||DIETARY_FIBER=Null \n",
      "\n",
      "\n",
      "\n",
      "||Serial_Number=3.0||PRODUCT_NAME=Cadbury_Chocobakes||ENERGY=501kcal||PROTEIN=5.1g||CARBS=66.2g||TOTAL_FAT=24.5g||SUGARS=39.7g||ADDED_SUGAR=37.8g||SATURATED_FAT=11.6g||TRANSFAT=0.1g||POLYUNSATURATED=Null||MONOUNSATURATED=Null||SODIUM=Null||CHOLESTROL=Null||DIETARY_FIBER=Null \n",
      "\n",
      "\n",
      "\n",
      "||Serial_Number=4.0||PRODUCT_NAME=Maggi_Pazzta_Mushroom_Penne||ENERGY=312kcal||PROTEIN=9.6g||CARBS=63.3g||TOTAL_FAT=2.8g||SUGARS=5.4g||ADDED_SUGAR=Null||SATURATED_FAT=2.2g||TRANSFAT=0.01g||POLYUNSATURATED=Null||MONOUNSATURATED=Null||SODIUM=Null||CHOLESTROL=Null||DIETARY_FIBER=Null \n",
      "\n",
      "\n",
      "\n",
      "||Serial_Number=5.0||PRODUCT_NAME=Haldiram_Plain_Bhujiya||ENERGY=585.8kcal||PROTEIN=10.9g||CARBS=41.5g||TOTAL_FAT=41.8g||SUGARS=1.5g||ADDED_SUGAR=Null||SATURATED_FAT=15.3g||TRANSFAT=Null||POLYUNSATURATED=Null||MONOUNSATURATED=Null||SODIUM=Null||CHOLESTROL=Null||DIETARY_FIBER=Null \n",
      "\n",
      "\n",
      "\n",
      "||Serial_Number=6.0||PRODUCT_NAME=RiteBite_Fruits_and_Seeds||ENERGY=108kcal||PROTEIN=3.3g||CARBS=24.7g||TOTAL_FAT=2.6g||SUGARS=2.9g||ADDED_SUGAR=Null||SATURATED_FAT=0.2g||TRANSFAT=Null||POLYUNSATURATED=Null||MONOUNSATURATED=Null||SODIUM=Null||CHOLESTROL=Null||DIETARY_FIBER=Null \n",
      "\n",
      "\n",
      "\n",
      "||Serial_Number=7.0||PRODUCT_NAME=Inchi_sweet_corn_veg_soup||ENERGY=333kcal||PROTEIN=2.5g||CARBS=78.3g||TOTAL_FAT=1g||SUGARS=39.5g||ADDED_SUGAR=Null||SATURATED_FAT=Null||TRANSFAT=Null||POLYUNSATURATED=Null||MONOUNSATURATED=Null||SODIUM=Null||CHOLESTROL=Null||DIETARY_FIBER=Null \n",
      "\n",
      "\n",
      "\n",
      "||Serial_Number=8.0||PRODUCT_NAME=Sunfest _yippie||ENERGY=385g||PROTEIN=10.9g||CARBS=73.9g||TOTAL_FAT=2.8g||SUGARS=10.9g||ADDED_SUGAR=1.8g||SATURATED_FAT=1.2g||TRANSFAT=0.01g||POLYUNSATURATED=Null||MONOUNSATURATED=Null||SODIUM=Null||CHOLESTROL=Null||DIETARY_FIBER=Null \n",
      "\n",
      "\n",
      "\n",
      "||Serial_Number=9.0||PRODUCT_NAME=Limca||ENERGY=44kcal||PROTEIN=Null||CARBS=11.1g||TOTAL_FAT=Null||SUGARS=10.7g||ADDED_SUGAR=10.7g||SATURATED_FAT=Null||TRANSFAT=Null||POLYUNSATURATED=Null||MONOUNSATURATED=Null||SODIUM=Null||CHOLESTROL=Null||DIETARY_FIBER=Null \n",
      "\n",
      "\n",
      "\n",
      "||Serial_Number=10.0||PRODUCT_NAME=Mirinda||ENERGY=5kcal||PROTEIN=0g||CARBS=13.8g||TOTAL_FAT=0g||SUGARS=0g||ADDED_SUGAR=13.8g||SATURATED_FAT=0g||TRANSFAT=0g||POLYUNSATURATED=Null||MONOUNSATURATED=Null||SODIUM=6g||CHOLESTROL=Null||DIETARY_FIBER=Null \n",
      "\n",
      "\n",
      "\n",
      "||Serial_Number=11.0||PRODUCT_NAME=Mexilla_Classic_Tortilla_Chips||ENERGY=511.4kcal||PROTEIN=7.6g||CARBS=64g||TOTAL_FAT=25g||SUGARS=3.6g||ADDED_SUGAR=3.6g||SATURATED_FAT=11.0g||TRANSFAT=<0.1g||POLYUNSATURATED=Null||MONOUNSATURATED=Null||SODIUM=788mg||CHOLESTROL=<1.0 mg||DIETARY_FIBER=Null \n",
      "\n",
      "\n",
      "\n",
      "||Serial_Number=12.0||PRODUCT_NAME=Max_Protein_Ultra_Grain_Protein_Snack(Spanish_Tomato)||ENERGY=287kcal||PROTEIN=10g||CARBS=29.8g||TOTAL_FAT=13.7g||SUGARS=2.1g||ADDED_SUGAR=Null||SATURATED_FAT=2.7g||TRANSFAT=0g||POLYUNSATURATED=5.1g||MONOUNSATURATED=5.9g||SODIUM=0.5g||CHOLESTROL=0mg||DIETARY_FIBER=4.0g \n",
      "\n",
      "\n",
      "\n",
      "||Serial_Number=13.0||PRODUCT_NAME=YU(Peri_Peri_Pasta)(215g)||ENERGY=256.6kcal||PROTEIN=10.2g||CARBS=25.9g||TOTAL_FAT=12.5g||SUGARS=4.5g||ADDED_SUGAR=Null||SATURATED_FAT=Null||TRANSFAT=Null||POLYUNSATURATED=Null||MONOUNSATURATED=Null||SODIUM=879g||CHOLESTROL=Null||DIETARY_FIBER=12.9g \n",
      "http://localhost/folder1/index.html\n"
     ]
    }
   ],
   "source": [
    "import pandas as pd\n",
    "import urllib.parse\n",
    "import qrcode\n",
    "\n",
    "url = 'http://localhost/folder1/index.html'\n",
    "\n",
    "# Read the Excel sheet into a pandas dataframe and handle the FileNotFoundError\n",
    "try:\n",
    "    df = pd.read_excel('IP_data_3.xlsx')\n",
    "except FileNotFoundError:\n",
    "    print(\"The file 'IP_data.xlsx' was not found.\")\n",
    "    exit()\n",
    "\n",
    "# Extract the first row of the DataFrame and store it in a variable\n",
    "cals = df.columns\n",
    "\n",
    "# Iterate over the rows in the DataFrame\n",
    "for index, row in df.iterrows():\n",
    "    # Get the data for the row\n",
    "    data = {col: str(row[col]) for col in df.columns}\n",
    "    # Create an empty string to store the data\n",
    "    encoded_data = \"\"\n",
    "    # Iterate over the keys and values of data\n",
    "    i = 0\n",
    "    for key, value in data.items():\n",
    "        # Append the key and value to the encoded data string\n",
    "        if i < 15:\n",
    "            encoded_data = encoded_data + \"||\" + f\"{cals[i]}={value}\"\n",
    "        i += 1\n",
    "    print('\\n\\n')\n",
    "    print(encoded_data + \" \")\n",
    "\n",
    "    encoded_data = encoded_data[:-1]\n",
    "    # Create a QR code object\n",
    "    qr = qrcode.QRCode(version=1, error_correction=qrcode.constants.ERROR_CORRECT_L, box_size=4, border=4)\n",
    "    # Add the data to the QR code object\n",
    "    qr.add_data(url + '?' + encoded_data)\n",
    "    # Make the QR code image\n",
    "    img = qr.make_image()\n",
    "    # Save the QR code image\n",
    "    img.save(f'qr_code_{index}.png')\n",
    "\n",
    "\n",
    "print(url)"
   ]
  },
  {
   "cell_type": "code",
   "execution_count": null,
   "metadata": {},
   "outputs": [],
   "source": [
    "\n"
   ]
  },
  {
   "cell_type": "code",
   "execution_count": null,
   "metadata": {},
   "outputs": [],
   "source": []
  }
 ],
 "metadata": {
  "kernelspec": {
   "display_name": "Python 3",
   "language": "python",
   "name": "python3"
  },
  "language_info": {
   "codemirror_mode": {
    "name": "ipython",
    "version": 3
   },
   "file_extension": ".py",
   "mimetype": "text/x-python",
   "name": "python",
   "nbconvert_exporter": "python",
   "pygments_lexer": "ipython3",
   "version": "3.7.6"
  }
 },
 "nbformat": 4,
 "nbformat_minor": 4
}
